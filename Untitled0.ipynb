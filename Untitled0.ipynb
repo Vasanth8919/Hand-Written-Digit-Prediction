{
  "cells": [
    {
      "cell_type": "markdown",
      "metadata": {
        "id": "orTIqdju8IRq"
      },
      "source": [
        "**Import Library**"
      ]
    },
    {
      "cell_type": "code",
      "execution_count": 106,
      "metadata": {
        "id": "ndrLxAfy8Tlz"
      },
      "outputs": [],
      "source": [
        "import pandas as pd"
      ]
    },
    {
      "cell_type": "code",
      "execution_count": 107,
      "metadata": {
        "id": "nbhxX0W38auH"
      },
      "outputs": [],
      "source": [
        "import numpy as np"
      ]
    },
    {
      "cell_type": "code",
      "execution_count": 108,
      "metadata": {
        "id": "jaL9U2728eME"
      },
      "outputs": [],
      "source": [
        "import matplotlib.pyplot as plt"
      ]
    },
    {
      "cell_type": "markdown",
      "metadata": {
        "id": "2K2IWTKj8pzq"
      },
      "source": [
        "**Import Data**"
      ]
    },
    {
      "cell_type": "code",
      "execution_count": 109,
      "metadata": {
        "id": "1ZQhVeAc85Af"
      },
      "outputs": [],
      "source": [
        "from sklearn.datasets import load_digits"
      ]
    },
    {
      "cell_type": "code",
      "execution_count": 110,
      "metadata": {
        "id": "JScSZk8eAXHF"
      },
      "outputs": [],
      "source": [
        "df=load_digits()"
      ]
    },
    {
      "cell_type": "code",
      "execution_count": 111,
      "metadata": {
        "id": "1nmxMEu1AdkX",
        "colab": {
          "base_uri": "https://localhost:8080/",
          "height": 227
        },
        "outputId": "8c5e77f3-1e05-4667-a920-36297ab3fc15"
      },
      "outputs": [
        {
          "output_type": "display_data",
          "data": {
            "text/plain": [
              "<Figure size 1000x300 with 4 Axes>"
            ],
            "image/png": "[encoded data removed]"
          },
          "metadata": {}
        }
      ],
      "source": [
        "_, axes=plt.subplots(nrows=1, ncols=4, figsize=(10, 3))\n",
        "for ax, image, label in zip(axes, df.images, df.target):\n",
        "  ax.set_axis_off()\n",
        "  ax.imshow(image, cmap=plt.cm.gray_r, interpolation=\"nearest\")\n",
        "  ax.set_title(\"Training: %i\" % label)\n"
      ]
    },
    {
      "cell_type": "markdown",
      "metadata": {
        "id": "HFg42zi0KhOI"
      },
      "source": [
        "**Data Preprocessing**"
      ]
    },
    {
      "cell_type": "code",
      "execution_count": 112,
      "metadata": {
        "id": "lqLN1d5tKp1r",
        "colab": {
          "base_uri": "https://localhost:8080/"
        },
        "outputId": "4d83683a-9cd8-4ace-8292-4c9be100156a"
      },
      "outputs": [
        {
          "output_type": "execute_result",
          "data": {
            "text/plain": [
              "(1797, 8, 8)"
            ]
          },
          "metadata": {},
          "execution_count": 112
        }
      ],
      "source": [
        " df.images.shape"
      ]
    },
    {
      "cell_type": "code",
      "execution_count": 113,
      "metadata": {
        "id": "xmVpB4ccL8nT",
        "colab": {
          "base_uri": "https://localhost:8080/"
        },
        "outputId": "6ae3741f-a576-424e-ae17-2ba4ac756622"
      },
      "outputs": [
        {
          "output_type": "execute_result",
          "data": {
            "text/plain": [
              "array([[ 0.,  0.,  5., 13.,  9.,  1.,  0.,  0.],\n",
              "       [ 0.,  0., 13., 15., 10., 15.,  5.,  0.],\n",
              "       [ 0.,  3., 15.,  2.,  0., 11.,  8.,  0.],\n",
              "       [ 0.,  4., 12.,  0.,  0.,  8.,  8.,  0.],\n",
              "       [ 0.,  5.,  8.,  0.,  0.,  9.,  8.,  0.],\n",
              "       [ 0.,  4., 11.,  0.,  1., 12.,  7.,  0.],\n",
              "       [ 0.,  2., 14.,  5., 10., 12.,  0.,  0.],\n",
              "       [ 0.,  0.,  6., 13., 10.,  0.,  0.,  0.]])"
            ]
          },
          "metadata": {},
          "execution_count": 113
        }
      ],
      "source": [
        "df.images[0]"
      ]
    },
    {
      "cell_type": "code",
      "execution_count": 114,
      "metadata": {
        "id": "iWUKah2eMlGr",
        "colab": {
          "base_uri": "https://localhost:8080/"
        },
        "outputId": "d4aa84a7-dee2-45a1-ef6a-a4c8be6b77ca"
      },
      "outputs": [
        {
          "output_type": "execute_result",
          "data": {
            "text/plain": [
              "(8, 8)"
            ]
          },
          "metadata": {},
          "execution_count": 114
        }
      ],
      "source": [
        "df.images[0].shape"
      ]
    },
    {
      "cell_type": "code",
      "execution_count": 115,
      "metadata": {
        "id": "5pbXNSzXMqGM",
        "colab": {
          "base_uri": "https://localhost:8080/"
        },
        "outputId": "8351c86c-8623-4026-c8b9-be1fe51947ce"
      },
      "outputs": [
        {
          "output_type": "execute_result",
          "data": {
            "text/plain": [
              "1797"
            ]
          },
          "metadata": {},
          "execution_count": 115
        }
      ],
      "source": [
        "len(df.images)"
      ]
    },
    {
      "cell_type": "code",
      "execution_count": 116,
      "metadata": {
        "id": "-5JWnbDHMvdQ"
      },
      "outputs": [],
      "source": [
        "n_samples= len(df.images)\n",
        "data=df.images.reshape((n_samples, -1))"
      ]
    },
    {
      "cell_type": "code",
      "execution_count": 117,
      "metadata": {
        "id": "aIZ6Iu2iNDQz",
        "colab": {
          "base_uri": "https://localhost:8080/"
        },
        "outputId": "d4f8f6bc-d863-472a-f829-3103ab71fede"
      },
      "outputs": [
        {
          "output_type": "execute_result",
          "data": {
            "text/plain": [
              "array([ 0.,  0.,  5., 13.,  9.,  1.,  0.,  0.,  0.,  0., 13., 15., 10.,\n",
              "       15.,  5.,  0.,  0.,  3., 15.,  2.,  0., 11.,  8.,  0.,  0.,  4.,\n",
              "       12.,  0.,  0.,  8.,  8.,  0.,  0.,  5.,  8.,  0.,  0.,  9.,  8.,\n",
              "        0.,  0.,  4., 11.,  0.,  1., 12.,  7.,  0.,  0.,  2., 14.,  5.,\n",
              "       10., 12.,  0.,  0.,  0.,  0.,  6., 13., 10.,  0.,  0.,  0.])"
            ]
          },
          "metadata": {},
          "execution_count": 117
        }
      ],
      "source": [
        "data[0]"
      ]
    },
    {
      "cell_type": "code",
      "execution_count": 118,
      "metadata": {
        "id": "rPYa8a7MNFWX",
        "colab": {
          "base_uri": "https://localhost:8080/"
        },
        "outputId": "a63db448-6593-49a8-ff1d-bcd1a7d4b33c"
      },
      "outputs": [
        {
          "output_type": "execute_result",
          "data": {
            "text/plain": [
              "(64,)"
            ]
          },
          "metadata": {},
          "execution_count": 118
        }
      ],
      "source": [
        "data[0].shape"
      ]
    },
    {
      "cell_type": "code",
      "execution_count": 119,
      "metadata": {
        "id": "WCHXzEAMNMfH",
        "colab": {
          "base_uri": "https://localhost:8080/"
        },
        "outputId": "26fffb4d-9181-4b5e-d7e2-7150a519757a"
      },
      "outputs": [
        {
          "output_type": "execute_result",
          "data": {
            "text/plain": [
              "(1797, 64)"
            ]
          },
          "metadata": {},
          "execution_count": 119
        }
      ],
      "source": [
        " data.shape"
      ]
    },
    {
      "cell_type": "markdown",
      "metadata": {
        "id": "fFPlH6AiNVf-"
      },
      "source": [
        "**Scaling Image Data**"
      ]
    },
    {
      "cell_type": "code",
      "execution_count": 120,
      "metadata": {
        "id": "JZzKVxzQNdAR",
        "colab": {
          "base_uri": "https://localhost:8080/"
        },
        "outputId": "0e55e1e7-41f4-4163-d348-70216567bfed"
      },
      "outputs": [
        {
          "output_type": "execute_result",
          "data": {
            "text/plain": [
              "0.0"
            ]
          },
          "metadata": {},
          "execution_count": 120
        }
      ],
      "source": [
        "data.min()"
      ]
    },
    {
      "cell_type": "code",
      "execution_count": 121,
      "metadata": {
        "id": "KQ2uWS81NfOk",
        "colab": {
          "base_uri": "https://localhost:8080/"
        },
        "outputId": "cb0fbeed-a2a0-4bfa-b436-7de5bf9ea82b"
      },
      "outputs": [
        {
          "output_type": "execute_result",
          "data": {
            "text/plain": [
              "16.0"
            ]
          },
          "metadata": {},
          "execution_count": 121
        }
      ],
      "source": [
        "data.max()"
      ]
    },
    {
      "cell_type": "code",
      "execution_count": 122,
      "metadata": {
        "id": "7nGg0Oh-NhHy"
      },
      "outputs": [],
      "source": [
        "data= data/16"
      ]
    },
    {
      "cell_type": "code",
      "execution_count": 123,
      "metadata": {
        "id": "GU0nluJBNjAm",
        "colab": {
          "base_uri": "https://localhost:8080/"
        },
        "outputId": "82a91e97-e192-4684-a6b7-ff7f9392dadd"
      },
      "outputs": [
        {
          "output_type": "execute_result",
          "data": {
            "text/plain": [
              "0.0"
            ]
          },
          "metadata": {},
          "execution_count": 123
        }
      ],
      "source": [
        " data.min()"
      ]
    },
    {
      "cell_type": "code",
      "execution_count": 124,
      "metadata": {
        "id": "p44c3cxNNnDZ",
        "colab": {
          "base_uri": "https://localhost:8080/"
        },
        "outputId": "99740090-0ec1-44b5-d2a5-e9aea0ccc16d"
      },
      "outputs": [
        {
          "output_type": "execute_result",
          "data": {
            "text/plain": [
              "1.0"
            ]
          },
          "metadata": {},
          "execution_count": 124
        }
      ],
      "source": [
        "data.max()"
      ]
    },
    {
      "cell_type": "code",
      "execution_count": 125,
      "metadata": {
        "id": "OmpasLZlNtAG",
        "colab": {
          "base_uri": "https://localhost:8080/"
        },
        "outputId": "42090ff4-b74d-4b03-994e-c1003c91a5fc"
      },
      "outputs": [
        {
          "output_type": "execute_result",
          "data": {
            "text/plain": [
              "array([0.    , 0.    , 0.3125, 0.8125, 0.5625, 0.0625, 0.    , 0.    ,\n",
              "       0.    , 0.    , 0.8125, 0.9375, 0.625 , 0.9375, 0.3125, 0.    ,\n",
              "       0.    , 0.1875, 0.9375, 0.125 , 0.    , 0.6875, 0.5   , 0.    ,\n",
              "       0.    , 0.25  , 0.75  , 0.    , 0.    , 0.5   , 0.5   , 0.    ,\n",
              "       0.    , 0.3125, 0.5   , 0.    , 0.    , 0.5625, 0.5   , 0.    ,\n",
              "       0.    , 0.25  , 0.6875, 0.    , 0.0625, 0.75  , 0.4375, 0.    ,\n",
              "       0.    , 0.125 , 0.875 , 0.3125, 0.625 , 0.75  , 0.    , 0.    ,\n",
              "       0.    , 0.    , 0.375 , 0.8125, 0.625 , 0.    , 0.    , 0.    ])"
            ]
          },
          "metadata": {},
          "execution_count": 125
        }
      ],
      "source": [
        "data[0]"
      ]
    },
    {
      "cell_type": "markdown",
      "metadata": {
        "id": "gpFEPQngNuot"
      },
      "source": [
        "**Train Test Split Data**"
      ]
    },
    {
      "cell_type": "code",
      "execution_count": 126,
      "metadata": {
        "id": "ooA3FTtvNydd"
      },
      "outputs": [],
      "source": [
        "from sklearn.model_selection import train_test_split"
      ]
    },
    {
      "cell_type": "code",
      "execution_count": 127,
      "metadata": {
        "id": "EYCNSfiZN8rn"
      },
      "outputs": [],
      "source": [
        "X_train, X_test, y_train, y_test=train_test_split(data, df.target, test_size=0.3)"
      ]
    },
    {
      "cell_type": "code",
      "execution_count": 128,
      "metadata": {
        "id": "NL7077m4OQ9y",
        "colab": {
          "base_uri": "https://localhost:8080/"
        },
        "outputId": "8eac3c2f-29d4-4a49-b344-e87cacb73b22"
      },
      "outputs": [
        {
          "output_type": "execute_result",
          "data": {
            "text/plain": [
              "((1257, 64), (540, 64), (1257,), (540,))"
            ]
          },
          "metadata": {},
          "execution_count": 128
        }
      ],
      "source": [
        " X_train.shape, X_test.shape, y_train.shape, y_test.shape"
      ]
    },
    {
      "cell_type": "markdown",
      "metadata": {
        "id": "Q9LYZYLMOewL"
      },
      "source": [
        "**Random Forest Model**"
      ]
    },
    {
      "cell_type": "code",
      "execution_count": 129,
      "metadata": {
        "id": "uhxtrvvVOjk_"
      },
      "outputs": [],
      "source": [
        "from sklearn.ensemble import RandomForestClassifier"
      ]
    },
    {
      "cell_type": "code",
      "execution_count": 130,
      "metadata": {
        "id": "SYrJUmIBOt44"
      },
      "outputs": [],
      "source": [
        "rf=RandomForestClassifier()"
      ]
    },
    {
      "cell_type": "code",
      "execution_count": 131,
      "metadata": {
        "id": "1_D8bBWgOzF0",
        "colab": {
          "base_uri": "https://localhost:8080/",
          "height": 75
        },
        "outputId": "552fe4e4-a35f-4f09-c6fd-8d3f20358f9f"
      },
      "outputs": [
        {
          "output_type": "execute_result",
          "data": {
            "text/plain": [
              "RandomForestClassifier()"
            ],
            "text/html": [
              "<style>#sk-container-id-4 {color: black;background-color: white;}#sk-container-id-4 pre{padding: 0;}#sk-container-id-4 div.sk-toggleable {background-color: white;}#sk-container-id-4 label.sk-toggleable__label {cursor: pointer;display: block;width: 100%;margin-bottom: 0;padding: 0.3em;box-sizing: border-box;text-align: center;}#sk-container-id-4 label.sk-toggleable__label-arrow:before {content: \"▸\";float: left;margin-right: 0.25em;color: #696969;}#sk-container-id-4 label.sk-toggleable__label-arrow:hover:before {color: black;}#sk-container-id-4 div.sk-estimator:hover label.sk-toggleable__label-arrow:before {color: black;}#sk-container-id-4 div.sk-toggleable__content {max-height: 0;max-width: 0;overflow: hidden;text-align: left;background-color: #f0f8ff;}#sk-container-id-4 div.sk-toggleable__content pre {margin: 0.2em;color: black;border-radius: 0.25em;background-color: #f0f8ff;}#sk-container-id-4 input.sk-toggleable__control:checked~div.sk-toggleable__content {max-height: 200px;max-width: 100%;overflow: auto;}#sk-container-id-4 input.sk-toggleable__control:checked~label.sk-toggleable__label-arrow:before {content: \"▾\";}#sk-container-id-4 div.sk-estimator input.sk-toggleable__control:checked~label.sk-toggleable__label {background-color: #d4ebff;}#sk-container-id-4 div.sk-label input.sk-toggleable__control:checked~label.sk-toggleable__label {background-color: #d4ebff;}#sk-container-id-4 input.sk-hidden--visually {border: 0;clip: rect(1px 1px 1px 1px);clip: rect(1px, 1px, 1px, 1px);height: 1px;margin: -1px;overflow: hidden;padding: 0;position: absolute;width: 1px;}#sk-container-id-4 div.sk-estimator {font-family: monospace;background-color: #f0f8ff;border: 1px dotted black;border-radius: 0.25em;box-sizing: border-box;margin-bottom: 0.5em;}#sk-container-id-4 div.sk-estimator:hover {background-color: #d4ebff;}#sk-container-id-4 div.sk-parallel-item::after {content: \"\";width: 100%;border-bottom: 1px solid gray;flex-grow: 1;}#sk-container-id-4 div.sk-label:hover label.sk-toggleable__label {background-color: #d4ebff;}#sk-container-id-4 div.sk-serial::before {content: \"\";position: absolute;border-left: 1px solid gray;box-sizing: border-box;top: 0;bottom: 0;left: 50%;z-index: 0;}#sk-container-id-4 div.sk-serial {display: flex;flex-direction: column;align-items: center;background-color: white;padding-right: 0.2em;padding-left: 0.2em;position: relative;}#sk-container-id-4 div.sk-item {position: relative;z-index: 1;}#sk-container-id-4 div.sk-parallel {display: flex;align-items: stretch;justify-content: center;background-color: white;position: relative;}#sk-container-id-4 div.sk-item::before, #sk-container-id-4 div.sk-parallel-item::before {content: \"\";position: absolute;border-left: 1px solid gray;box-sizing: border-box;top: 0;bottom: 0;left: 50%;z-index: -1;}#sk-container-id-4 div.sk-parallel-item {display: flex;flex-direction: column;z-index: 1;position: relative;background-color: white;}#sk-container-id-4 div.sk-parallel-item:first-child::after {align-self: flex-end;width: 50%;}#sk-container-id-4 div.sk-parallel-item:last-child::after {align-self: flex-start;width: 50%;}#sk-container-id-4 div.sk-parallel-item:only-child::after {width: 0;}#sk-container-id-4 div.sk-dashed-wrapped {border: 1px dashed gray;margin: 0 0.4em 0.5em 0.4em;box-sizing: border-box;padding-bottom: 0.4em;background-color: white;}#sk-container-id-4 div.sk-label label {font-family: monospace;font-weight: bold;display: inline-block;line-height: 1.2em;}#sk-container-id-4 div.sk-label-container {text-align: center;}#sk-container-id-4 div.sk-container {/* jupyter's `normalize.less` sets `[hidden] { display: none; }` but bootstrap.min.css set `[hidden] { display: none !important; }` so we also need the `!important` here to be able to override the default hidden behavior on the sphinx rendered scikit-learn.org. See: https://github.com/scikit-learn/scikit-learn/issues/21755 */display: inline-block !important;position: relative;}#sk-container-id-4 div.sk-text-repr-fallback {display: none;}</style><div id=\"sk-container-id-4\" class=\"sk-top-container\"><div class=\"sk-text-repr-fallback\"><pre>RandomForestClassifier()</pre><b>In a Jupyter environment, please rerun this cell to show the HTML representation or trust the notebook. <br />On GitHub, the HTML representation is unable to render, please try loading this page with nbviewer.org.</b></div><div class=\"sk-container\" hidden><div class=\"sk-item\"><div class=\"sk-estimator sk-toggleable\"><input class=\"sk-toggleable__control sk-hidden--visually\" id=\"sk-estimator-id-4\" type=\"checkbox\" checked><label for=\"sk-estimator-id-4\" class=\"sk-toggleable__label sk-toggleable__label-arrow\">RandomForestClassifier</label><div class=\"sk-toggleable__content\"><pre>RandomForestClassifier()</pre></div></div></div></div></div>"
            ]
          },
          "metadata": {},
          "execution_count": 131
        }
      ],
      "source": [
        "rf.fit(X_train, y_train)"
      ]
    },
    {
      "cell_type": "markdown",
      "metadata": {
        "id": "i1m6yy97O8Sd"
      },
      "source": [
        "**Predict Test Data**"
      ]
    },
    {
      "cell_type": "code",
      "execution_count": 132,
      "metadata": {
        "id": "pgEPcis_PA57"
      },
      "outputs": [],
      "source": [
        "y_pred= rf.predict(X_test)"
      ]
    },
    {
      "cell_type": "code",
      "execution_count": 133,
      "metadata": {
        "id": "MiyuSzDBPNIN",
        "colab": {
          "base_uri": "https://localhost:8080/"
        },
        "outputId": "32bafb8a-38d6-4490-d12f-9e9c2ce3cf52"
      },
      "outputs": [
        {
          "output_type": "execute_result",
          "data": {
            "text/plain": [
              "array([4, 4, 4, 2, 4, 8, 4, 5, 7, 4, 3, 0, 8, 3, 5, 1, 3, 1, 8, 2, 2, 7,\n",
              "       5, 7, 0, 6, 8, 1, 6, 8, 4, 1, 4, 4, 5, 4, 7, 6, 1, 0, 9, 5, 1, 7,\n",
              "       2, 6, 4, 4, 4, 9, 2, 5, 0, 0, 9, 2, 2, 8, 6, 7, 9, 1, 9, 1, 5, 1,\n",
              "       8, 9, 9, 1, 3, 3, 0, 7, 4, 7, 4, 4, 9, 0, 6, 3, 4, 1, 9, 9, 9, 3,\n",
              "       9, 6, 4, 6, 6, 1, 2, 8, 8, 5, 4, 8, 0, 4, 8, 5, 5, 0, 2, 4, 4, 6,\n",
              "       9, 9, 8, 6, 5, 7, 9, 7, 4, 2, 2, 0, 7, 0, 0, 1, 3, 9, 8, 8, 5, 3,\n",
              "       7, 3, 6, 5, 5, 6, 5, 6, 3, 4, 6, 6, 5, 6, 2, 9, 3, 3, 2, 1, 1, 7,\n",
              "       2, 1, 2, 6, 4, 3, 0, 0, 4, 5, 1, 0, 6, 1, 9, 3, 0, 5, 2, 9, 2, 4,\n",
              "       9, 4, 5, 3, 4, 4, 3, 8, 2, 9, 9, 4, 1, 9, 5, 6, 2, 6, 8, 9, 3, 5,\n",
              "       9, 2, 7, 7, 5, 8, 6, 2, 5, 8, 2, 2, 8, 9, 1, 8, 8, 6, 6, 0, 9, 1,\n",
              "       7, 4, 0, 0, 0, 1, 0, 5, 0, 8, 7, 7, 8, 7, 4, 8, 9, 9, 4, 3, 8, 4,\n",
              "       4, 9, 6, 6, 3, 0, 6, 7, 3, 8, 6, 3, 0, 8, 8, 3, 9, 1, 3, 1, 6, 7,\n",
              "       5, 2, 7, 0, 2, 5, 5, 8, 9, 6, 3, 1, 1, 0, 5, 0, 3, 1, 1, 2, 7, 2,\n",
              "       3, 0, 7, 3, 0, 2, 6, 1, 1, 1, 2, 2, 7, 4, 1, 3, 9, 4, 3, 1, 7, 8,\n",
              "       8, 6, 5, 4, 0, 3, 2, 7, 4, 9, 8, 1, 1, 8, 7, 9, 9, 0, 8, 2, 5, 5,\n",
              "       5, 0, 3, 6, 7, 1, 8, 4, 7, 6, 8, 0, 5, 6, 2, 9, 7, 2, 6, 5, 6, 8,\n",
              "       2, 0, 7, 3, 9, 4, 9, 4, 9, 6, 6, 7, 4, 0, 1, 1, 9, 0, 5, 8, 2, 1,\n",
              "       5, 5, 8, 7, 5, 1, 6, 7, 8, 7, 3, 6, 7, 6, 9, 6, 2, 4, 5, 5, 0, 1,\n",
              "       4, 0, 7, 0, 8, 7, 3, 6, 0, 9, 9, 0, 8, 0, 5, 1, 1, 6, 6, 7, 3, 2,\n",
              "       8, 8, 6, 1, 2, 1, 8, 4, 1, 0, 8, 2, 8, 2, 6, 0, 4, 7, 6, 7, 2, 2,\n",
              "       9, 2, 8, 7, 5, 5, 2, 2, 7, 0, 4, 1, 9, 1, 0, 0, 4, 4, 0, 2, 1, 7,\n",
              "       1, 1, 5, 2, 8, 7, 8, 8, 6, 7, 5, 2, 5, 5, 7, 2, 7, 7, 2, 3, 5, 8,\n",
              "       2, 7, 2, 3, 5, 1, 8, 9, 7, 5, 6, 9, 0, 4, 7, 4, 3, 8, 5, 1, 7, 7,\n",
              "       5, 1, 5, 5, 3, 1, 5, 5, 2, 0, 0, 1, 1, 7, 8, 9, 7, 7, 6, 7, 0, 3,\n",
              "       0, 7, 3, 9, 4, 4, 9, 7, 7, 8, 2, 7])"
            ]
          },
          "metadata": {},
          "execution_count": 133
        }
      ],
      "source": [
        "y_pred"
      ]
    },
    {
      "cell_type": "markdown",
      "metadata": {
        "id": "sIy5KG_TPYKu"
      },
      "source": [
        "**Model Accurancy**"
      ]
    },
    {
      "cell_type": "code",
      "execution_count": 134,
      "metadata": {
        "id": "A6o3KLxfPdfa"
      },
      "outputs": [],
      "source": [
        "from sklearn.metrics import confusion_matrix, classification_report"
      ]
    },
    {
      "cell_type": "code",
      "execution_count": 135,
      "metadata": {
        "id": "r377QXpZPnGp",
        "colab": {
          "base_uri": "https://localhost:8080/"
        },
        "outputId": "50a529d8-fd31-463e-cd4f-11029d0945c6"
      },
      "outputs": [
        {
          "output_type": "execute_result",
          "data": {
            "text/plain": [
              "array([[53,  0,  0,  0,  0,  0,  0,  0,  0,  0],\n",
              "       [ 0, 54,  0,  0,  0,  0,  0,  0,  0,  0],\n",
              "       [ 0,  1, 55,  0,  0,  0,  0,  0,  0,  0],\n",
              "       [ 0,  0,  0, 41,  0,  2,  0,  0,  1,  0],\n",
              "       [ 0,  0,  0,  0, 55,  0,  0,  1,  0,  0],\n",
              "       [ 0,  0,  0,  0,  0, 52,  0,  0,  0,  1],\n",
              "       [ 0,  0,  0,  0,  0,  1, 52,  0,  1,  0],\n",
              "       [ 0,  0,  0,  0,  0,  0,  0, 62,  0,  1],\n",
              "       [ 0,  2,  0,  0,  0,  0,  0,  0, 53,  0],\n",
              "       [ 0,  0,  0,  1,  0,  1,  0,  0,  1, 49]])"
            ]
          },
          "metadata": {},
          "execution_count": 135
        }
      ],
      "source": [
        "confusion_matrix(y_test, y_pred)"
      ]
    },
    {
      "cell_type": "code",
      "execution_count": 136,
      "metadata": {
        "id": "EOfJY2vtPuOt",
        "colab": {
          "base_uri": "https://localhost:8080/"
        },
        "outputId": "1d7f994e-463e-40d2-fa73-be3ca6c93985"
      },
      "outputs": [
        {
          "output_type": "stream",
          "name": "stdout",
          "text": [
            "              precision    recall  f1-score   support\n",
            "\n",
            "           0       1.00      1.00      1.00        53\n",
            "           1       0.95      1.00      0.97        54\n",
            "           2       1.00      0.98      0.99        56\n",
            "           3       0.98      0.93      0.95        44\n",
            "           4       1.00      0.98      0.99        56\n",
            "           5       0.93      0.98      0.95        53\n",
            "           6       1.00      0.96      0.98        54\n",
            "           7       0.98      0.98      0.98        63\n",
            "           8       0.95      0.96      0.95        55\n",
            "           9       0.96      0.94      0.95        52\n",
            "\n",
            "    accuracy                           0.97       540\n",
            "   macro avg       0.97      0.97      0.97       540\n",
            "weighted avg       0.97      0.97      0.97       540\n",
            "\n"
          ]
        }
      ],
      "source": [
        "print(classification_report(y_test, y_pred))"
      ]
    }
  ],
  "metadata": {
    "colab": {
      "provenance": []
    },
    "kernelspec": {
      "display_name": "Python 3",
      "name": "python3"
    },
    "language_info": {
      "name": "python"
    }
  },
  "nbformat": 4,
  "nbformat_minor": 0
}